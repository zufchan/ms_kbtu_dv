{
 "cells": [
  {
   "cell_type": "code",
   "execution_count": 1,
   "metadata": {},
   "outputs": [],
   "source": [
    "import pandas as pd"
   ]
  },
  {
   "cell_type": "code",
   "execution_count": 2,
   "metadata": {},
   "outputs": [],
   "source": [
    "df = pd.read_excel('matrix.xlsx')"
   ]
  },
  {
   "cell_type": "code",
   "execution_count": 10,
   "metadata": {},
   "outputs": [],
   "source": [
    "types_ = ['Satellite',\n",
    " 'Spacecraft',\n",
    " 'Joint venture',\n",
    " 'Satellite',\n",
    " 'Missile',\n",
    " 'Satellite',\n",
    " 'Airline',\n",
    " 'Satellite',\n",
    " 'Fighter Aircraft',\n",
    " 'Satellite',\n",
    " 'Satellite',\n",
    " 'Space program',\n",
    " 'Spacecraft',\n",
    " 'Space station',\n",
    " 'Spaceflight company',\n",
    " 'Spacecraft',\n",
    " 'Satellite',\n",
    " 'Space station',\n",
    " 'Missile',\n",
    " 'Satellite',\n",
    " 'Airline',\n",
    " 'Satellite',\n",
    " 'Airline',\n",
    " 'Satellite',\n",
    " 'Space program',\n",
    " 'Airline']"
   ]
  },
  {
   "cell_type": "code",
   "execution_count": 19,
   "metadata": {},
   "outputs": [],
   "source": [
    "nodes_p = pd.DataFrame({'programms': df.columns.to_list()[1:], 'typess': types_}).sort_values('typess')"
   ]
  },
  {
   "cell_type": "code",
   "execution_count": 20,
   "metadata": {},
   "outputs": [],
   "source": [
    "companies = df['Орг\\Тех']"
   ]
  },
  {
   "cell_type": "code",
   "execution_count": 21,
   "metadata": {},
   "outputs": [],
   "source": [
    "countries = [\n",
    " 'USA',\n",
    " 'USA',\n",
    " 'USA',\n",
    " 'USA',\n",
    " 'Italy',\n",
    " 'USA',\n",
    " 'France',\n",
    " 'Italy',\n",
    " 'USA',\n",
    " 'USA',\n",
    " 'USA',\n",
    " 'India',\n",
    " 'Russia',\n",
    " 'USA',\n",
    " 'USA',\n",
    " 'UK',\n",
    " 'USA',\n",
    " 'USA',\n",
    " 'USA',\n",
    " 'UK',\n",
    " 'France',\n",
    " 'Switzerland',\n",
    " 'USA',\n",
    " 'USA',\n",
    " 'Japan']"
   ]
  },
  {
   "cell_type": "code",
   "execution_count": 23,
   "metadata": {},
   "outputs": [],
   "source": [
    "nodes_c = pd.DataFrame({'company':companies, 'country':countries}).sort_values('country')"
   ]
  },
  {
   "cell_type": "code",
   "execution_count": 24,
   "metadata": {},
   "outputs": [],
   "source": [
    "edges = pd.melt(df, id_vars=['Орг\\Тех'], value_vars=df.columns.to_list()[1:])"
   ]
  },
  {
   "cell_type": "code",
   "execution_count": 25,
   "metadata": {},
   "outputs": [],
   "source": [
    "edges = edges[edges['value']>0].sort_values('Орг\\Тех').reset_index().drop('index', axis=1)"
   ]
  },
  {
   "cell_type": "code",
   "execution_count": 27,
   "metadata": {},
   "outputs": [],
   "source": [
    "edges.rename(columns = {'Орг\\Тех':'company', 'variable':'programms'}, inplace = True)"
   ]
  },
  {
   "cell_type": "code",
   "execution_count": 28,
   "metadata": {},
   "outputs": [
    {
     "data": {
      "text/html": [
       "<div>\n",
       "<style scoped>\n",
       "    .dataframe tbody tr th:only-of-type {\n",
       "        vertical-align: middle;\n",
       "    }\n",
       "\n",
       "    .dataframe tbody tr th {\n",
       "        vertical-align: top;\n",
       "    }\n",
       "\n",
       "    .dataframe thead th {\n",
       "        text-align: right;\n",
       "    }\n",
       "</style>\n",
       "<table border=\"1\" class=\"dataframe\">\n",
       "  <thead>\n",
       "    <tr style=\"text-align: right;\">\n",
       "      <th></th>\n",
       "      <th>company</th>\n",
       "      <th>programms</th>\n",
       "      <th>value</th>\n",
       "    </tr>\n",
       "  </thead>\n",
       "  <tbody>\n",
       "    <tr>\n",
       "      <th>0</th>\n",
       "      <td>Armstrong Flight Research Center</td>\n",
       "      <td>United Airlines</td>\n",
       "      <td>1.0</td>\n",
       "    </tr>\n",
       "    <tr>\n",
       "      <th>1</th>\n",
       "      <td>Armstrong Flight Research Center</td>\n",
       "      <td>Mitsubishi A6M Zero</td>\n",
       "      <td>1.0</td>\n",
       "    </tr>\n",
       "    <tr>\n",
       "      <th>2</th>\n",
       "      <td>Armstrong Flight Research Center</td>\n",
       "      <td>Everts Air</td>\n",
       "      <td>1.0</td>\n",
       "    </tr>\n",
       "    <tr>\n",
       "      <th>3</th>\n",
       "      <td>Blue Origin</td>\n",
       "      <td>OneWeb</td>\n",
       "      <td>2.0</td>\n",
       "    </tr>\n",
       "    <tr>\n",
       "      <th>4</th>\n",
       "      <td>Blue Origin</td>\n",
       "      <td>Starlink</td>\n",
       "      <td>1.0</td>\n",
       "    </tr>\n",
       "    <tr>\n",
       "      <th>...</th>\n",
       "      <td>...</td>\n",
       "      <td>...</td>\n",
       "      <td>...</td>\n",
       "    </tr>\n",
       "    <tr>\n",
       "      <th>98</th>\n",
       "      <td>United Launch Alliance</td>\n",
       "      <td>Jason-3</td>\n",
       "      <td>1.0</td>\n",
       "    </tr>\n",
       "    <tr>\n",
       "      <th>99</th>\n",
       "      <td>United Launch Alliance</td>\n",
       "      <td>OneWeb</td>\n",
       "      <td>1.0</td>\n",
       "    </tr>\n",
       "    <tr>\n",
       "      <th>100</th>\n",
       "      <td>Virgin Galactic</td>\n",
       "      <td>United Launch Alliance</td>\n",
       "      <td>1.0</td>\n",
       "    </tr>\n",
       "    <tr>\n",
       "      <th>101</th>\n",
       "      <td>Virgin Galactic</td>\n",
       "      <td>United Airlines</td>\n",
       "      <td>1.0</td>\n",
       "    </tr>\n",
       "    <tr>\n",
       "      <th>102</th>\n",
       "      <td>Virgin Galactic</td>\n",
       "      <td>Virgin Galactic</td>\n",
       "      <td>1.0</td>\n",
       "    </tr>\n",
       "  </tbody>\n",
       "</table>\n",
       "<p>103 rows × 3 columns</p>\n",
       "</div>"
      ],
      "text/plain": [
       "                              company               programms  value\n",
       "0    Armstrong Flight Research Center         United Airlines    1.0\n",
       "1    Armstrong Flight Research Center     Mitsubishi A6M Zero    1.0\n",
       "2    Armstrong Flight Research Center              Everts Air    1.0\n",
       "3                         Blue Origin                  OneWeb    2.0\n",
       "4                         Blue Origin                Starlink    1.0\n",
       "..                                ...                     ...    ...\n",
       "98             United Launch Alliance                 Jason-3    1.0\n",
       "99             United Launch Alliance                  OneWeb    1.0\n",
       "100                   Virgin Galactic  United Launch Alliance    1.0\n",
       "101                   Virgin Galactic         United Airlines    1.0\n",
       "102                   Virgin Galactic         Virgin Galactic    1.0\n",
       "\n",
       "[103 rows x 3 columns]"
      ]
     },
     "execution_count": 28,
     "metadata": {},
     "output_type": "execute_result"
    }
   ],
   "source": [
    "edges"
   ]
  },
  {
   "cell_type": "code",
   "execution_count": 60,
   "metadata": {},
   "outputs": [],
   "source": [
    "grouped_nodes_c = nodes_c.groupby('country').count().reset_index().sort_values(by='country')\n",
    "grouped_nodes_c['company_cums'] = grouped_nodes_c['company'].cumsum() - grouped_nodes_c['company']\n",
    "grouped_nodes_c['colors'] = ['#16302B', '#694873', '#85B79D', '#E53504', '#1D8DCA', '#EF9710', '#EF9710', '#5B4591']\n",
    "grouped_nodes_c.to_csv('countrycount.csv', index=False)"
   ]
  },
  {
   "cell_type": "code",
   "execution_count": 59,
   "metadata": {},
   "outputs": [],
   "source": [
    "grouped_nodes_e = nodes_p.groupby('type').count().reset_index().sort_values(by='type')\n",
    "grouped_nodes_e['programms_cums'] = grouped_nodes_e['programms'].cumsum() - grouped_nodes_e['programms']\n",
    "grouped_nodes_e['colors'] = ['#16302B', '#694873', '#85B79D', '#E53504', '#1D8DCA', '#EF9710', '#B09398', '#5B4591', '#60E200']\n",
    "grouped_nodes_e.to_csv('typecount.csv', index=False)"
   ]
  },
  {
   "cell_type": "code",
   "execution_count": 66,
   "metadata": {},
   "outputs": [],
   "source": [
    "dict_c = dict(zip(grouped_nodes_c['country'], grouped_nodes_c['colors']))"
   ]
  },
  {
   "cell_type": "code",
   "execution_count": 68,
   "metadata": {},
   "outputs": [],
   "source": [
    "dict_p = dict(zip(grouped_nodes_e['typess'], grouped_nodes_e['colors']))"
   ]
  },
  {
   "cell_type": "code",
   "execution_count": 69,
   "metadata": {},
   "outputs": [],
   "source": [
    "nodes_c['colors'] = [dict_c[i] for i in nodes_c['country']]\n",
    "nodes_p['colors'] = [dict_p[i] for i in nodes_p['typess']]"
   ]
  },
  {
   "cell_type": "code",
   "execution_count": 72,
   "metadata": {},
   "outputs": [],
   "source": [
    "edges.to_csv('edgelist.csv', index=False)\n",
    "nodes_c.to_csv('nodelist.csv', index=False)\n",
    "nodes_p.to_csv('edge-node.csv', index=False)"
   ]
  },
  {
   "cell_type": "code",
   "execution_count": null,
   "metadata": {},
   "outputs": [],
   "source": []
  }
 ],
 "metadata": {
  "kernelspec": {
   "display_name": "Python 3",
   "language": "python",
   "name": "python3"
  },
  "language_info": {
   "codemirror_mode": {
    "name": "ipython",
    "version": 3
   },
   "file_extension": ".py",
   "mimetype": "text/x-python",
   "name": "python",
   "nbconvert_exporter": "python",
   "pygments_lexer": "ipython3",
   "version": "3.8.3"
  }
 },
 "nbformat": 4,
 "nbformat_minor": 5
}
